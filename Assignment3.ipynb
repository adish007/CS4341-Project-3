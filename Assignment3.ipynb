{
 "cells": [
  {
   "cell_type": "code",
   "execution_count": 12,
   "metadata": {},
   "outputs": [],
   "source": [
    "import pandas as pd \n",
    "import numpy as np \n",
    "data = pd.read_csv(\"performance.csv\")\n",
    "#creating train and test\n",
    "train_data = data[40:]\n",
    "test_data = data[:40]\n",
    "#train and test data for X and Y\n",
    "\n",
    "X_train = train_data.iloc[:, [7,8,13,14,15,16,17,21,22,26,27,28,30]]\n",
    "y_train = train_data.iloc[:,[31]]\n",
    "\n",
    "X_test = test_data.iloc[:, [7,8,13,14,15,16,17,21,22,26,27,28,30]]\n",
    "y_test = test_data.iloc[:,[31]]"
   ]
  },
  {
   "cell_type": "code",
   "execution_count": 13,
   "metadata": {},
   "outputs": [
    {
     "data": {
      "text/plain": [
       "array([-1,  0,  1, -1,  0,  0,  0,  0,  0, -1, -1,  0,  0,  1, -1, -1,  1,\n",
       "       -1,  0,  1,  0,  0,  1, -1,  1,  1,  1, -1,  0, -1,  1,  0,  1, -1,\n",
       "       -1, -1,  0,  1,  1, -1], dtype=int64)"
      ]
     },
     "execution_count": 13,
     "metadata": {},
     "output_type": "execute_result"
    }
   ],
   "source": [
    "from sklearn.tree import DecisionTreeClassifier # Import Decision Tree Classifier\n",
    "# Create Decision Tree classifer object\n",
    "decision_tree_model = DecisionTreeClassifier()\n",
    "# Train Decision Tree Classifer\n",
    "DTS = decision_tree_model.fit(X_train,y_train)\n",
    "#Predict the response for test dataset\n",
    "y_pred_DTS = DTS.predict(X_test)\n",
    "y_pred_DTS\n"
   ]
  },
  {
   "cell_type": "code",
   "execution_count": 14,
   "metadata": {},
   "outputs": [],
   "source": [
    "#import KNN model\n",
    "from sklearn.neighbors import KNeighborsRegressor\n",
    "#create KNN classifier with 3 nieghbors\n",
    "knn_model = KNeighborsRegressor(n_neighbors=3)\n",
    "#Train the model using the training sets\n",
    "KNN = knn_model.fit(X_train, y_train)\n",
    "#Predict the response for test dataset\n",
    "y_pred_KNN_2d = KNN.predict(X_test)\n",
    "\n",
    "#cleaning data so other functions in metrics can work\n",
    "y_pred_KNN_decimal = y_pred_KNN_2d.flatten()\n",
    "y_pred_KNN = y_pred_KNN_decimal.round()\n",
    "\n",
    "# y_pred_KNN"
   ]
  },
  {
   "cell_type": "code",
   "execution_count": 15,
   "metadata": {},
   "outputs": [
    {
     "name": "stderr",
     "output_type": "stream",
     "text": [
      "C:\\Users\\jaina\\AppData\\Local\\Packages\\PythonSoftwareFoundation.Python.3.10_qbz5n2kfra8p0\\LocalCache\\local-packages\\Python310\\site-packages\\sklearn\\utils\\validation.py:1143: DataConversionWarning: A column-vector y was passed when a 1d array was expected. Please change the shape of y to (n_samples, ), for example using ravel().\n",
      "  y = column_or_1d(y, warn=True)\n"
     ]
    }
   ],
   "source": [
    "#Import Gaussian Naive Bayes model\n",
    "from sklearn.naive_bayes import GaussianNB\n",
    "#Create a Gaussian Classifier\n",
    "Gaussian_Naive_Bayes = GaussianNB()\n",
    "#Train the model using the training sets\n",
    "GNB = Gaussian_Naive_Bayes.fit(X_train, y_train)\n",
    "#Predict the response for test dataset\n",
    "y_pred_GNB = GNB.predict(X_test)\n",
    "# y_pred_GNB\n"
   ]
  },
  {
   "cell_type": "code",
   "execution_count": 16,
   "metadata": {},
   "outputs": [
    {
     "name": "stdout",
     "output_type": "stream",
     "text": [
      "Accuracy Decision Tree: 0.375\n",
      "Accuracy KNN: 0.325\n",
      "Accuracy Naive Bayes: 0.45\n"
     ]
    }
   ],
   "source": [
    "#Import scikit-learn metrics module for accuracy calculation\n",
    "from sklearn import metrics\n",
    "\n",
    "# Model Accuracy\n",
    "print(\"Accuracy Decision Tree:\",metrics.accuracy_score(y_test, y_pred_DTS))\n",
    "print(\"Accuracy KNN:\",metrics.accuracy_score(y_test, y_pred_KNN))\n",
    "print(\"Accuracy Naive Bayes:\",metrics.accuracy_score(y_test, y_pred_GNB))\n"
   ]
  },
  {
   "cell_type": "code",
   "execution_count": 17,
   "metadata": {},
   "outputs": [
    {
     "name": "stdout",
     "output_type": "stream",
     "text": [
      "R^2 Decision Tree: -0.574074074074074\n",
      "R^2 KNN: -0.5277777777777777\n",
      "R^2 Naive Bayes: -0.4351851851851851\n"
     ]
    }
   ],
   "source": [
    "# R2 score\n",
    "from sklearn.metrics import r2_score\n",
    "\n",
    "#print(\"Accuracy Decision Tree:\",metrics.accuracy_score(y_test, y_pred_DTS))\n",
    "print(\"R^2 Decision Tree: \" + str(r2_score(y_test, y_pred_DTS)))\n",
    "print(\"R^2 KNN: \" + str(r2_score(y_test, y_pred_KNN)))\n",
    "print(\"R^2 Naive Bayes: \" + str(r2_score(y_test, y_pred_GNB)))\n"
   ]
  }
 ],
 "metadata": {
  "kernelspec": {
   "display_name": "Python 3",
   "language": "python",
   "name": "python3"
  },
  "language_info": {
   "codemirror_mode": {
    "name": "ipython",
    "version": 3
   },
   "file_extension": ".py",
   "mimetype": "text/x-python",
   "name": "python",
   "nbconvert_exporter": "python",
   "pygments_lexer": "ipython3",
   "version": "3.10.10"
  },
  "orig_nbformat": 4,
  "vscode": {
   "interpreter": {
    "hash": "bd31f8dbd6618870f760b27f7e0a29a561a220180c8c4903b766def530193d15"
   }
  }
 },
 "nbformat": 4,
 "nbformat_minor": 2
}
